{
 "cells": [
  {
   "cell_type": "markdown",
   "metadata": {},
   "source": [
    "The Birthday Problem\n"
   ]
  },
  {
   "cell_type": "markdown",
   "metadata": {},
   "source": [
    "*1.* A function *birthday(n)* that returns the probability of\n",
    "atleast two people sharing the same birthday in a group of n people ."
   ]
  },
  {
   "cell_type": "code",
   "execution_count": 6,
   "metadata": {},
   "outputs": [
    {
     "name": "stdout",
     "output_type": "stream",
     "text": [
      "The required probability is: 0.1670247888380645\n"
     ]
    }
   ],
   "source": [
    "# let 'k' denote the number of people sharing their birthday\n",
    "\n",
    "import numpy as np\n",
    "\n",
    "def birthday(n):   # for k = 2\n",
    "    if n > 365:   # Considerig non-leap years\n",
    "        return 1    # more people than days,so by pigeonhole principle one birthday is shared for sure\n",
    "\n",
    "    total_days = 365\n",
    "    prob_unique = 1.0   # all unique birthdays\n",
    "    for i in range(n):  # i values from 0 to n-1\n",
    "        prob_unique *= (total_days - i) / total_days\n",
    "\n",
    "    return 1 - prob_unique\n",
    "\n",
    "n = int(input(\"Enter an integer: \"))\n",
    "\n",
    "print(f\"The required probability is: {birthday(n)}\")"
   ]
  },
  {
   "cell_type": "markdown",
   "metadata": {},
   "source": [
    "*2.* Determining the minimum number of people required for the probability of at least two sharing the same birthday to be at least 70%.\n",
    "\n",
    "*  First, we calculate the probability of all unique birthdays by recursive multiplication.\n",
    "*  We check for the complement to be just greater than 0.7, meaning that the required probability is atleast 0.7 .\n",
    "*  The value of 'n' at which the loop terminates is the required vaue of n."
   ]
  },
  {
   "cell_type": "code",
   "execution_count": 8,
   "metadata": {},
   "outputs": [
    {
     "name": "stdout",
     "output_type": "stream",
     "text": [
      "Minimum number of people required: 30\n"
     ]
    }
   ],
   "source": [
    "import numpy as np\n",
    "\n",
    "n = 0\n",
    "while (birthday(n)) < 0.7:  # Stop when probability of shared birthday ≥ 70%\n",
    "    n += 1\n",
    "\n",
    "print(f\"Minimum number of people required: {n}\")"
   ]
  },
  {
   "cell_type": "code",
   "execution_count": 9,
   "metadata": {
    "vscode": {
     "languageId": "latex"
    }
   },
   "outputs": [
    {
     "data": {
      "text/latex": [
       "$\\displaystyle \\textbf{Plotting the Graph of Probability vs. Total Number of People (for } k = 2\\textbf{)}$"
      ],
      "text/plain": [
       "<IPython.core.display.Math object>"
      ]
     },
     "metadata": {},
     "output_type": "display_data"
    },
    {
     "data": {
      "text/latex": [
       "$\\displaystyle P(n) = 1 - \\exp\\left(-\\frac{n^2}{730}\\right)$"
      ],
      "text/plain": [
       "<IPython.core.display.Math object>"
      ]
     },
     "metadata": {},
     "output_type": "display_data"
    },
    {
     "data": {
      "text/latex": [
       "$\\displaystyle \\text{The similarity in the two graphs is due to the fact that the given expression is the exponential}$"
      ],
      "text/plain": [
       "<IPython.core.display.Math object>"
      ]
     },
     "metadata": {},
     "output_type": "display_data"
    },
    {
     "data": {
      "text/latex": [
       "$\\displaystyle \\text{approximation of the standard birthday problem.}$"
      ],
      "text/plain": [
       "<IPython.core.display.Math object>"
      ]
     },
     "metadata": {},
     "output_type": "display_data"
    },
    {
     "data": {
      "text/latex": [
       "$\\displaystyle \\textbf{Step 1: Probability of Unique Birthdays}$"
      ],
      "text/plain": [
       "<IPython.core.display.Math object>"
      ]
     },
     "metadata": {},
     "output_type": "display_data"
    },
    {
     "data": {
      "text/latex": [
       "$\\displaystyle P_{\\text{unique}}(n) = \\frac{365}{365} \\times \\frac{364}{365} \\times \\frac{363}{365} \\times \\dots \\times \\frac{365 - n + 1}{365}$"
      ],
      "text/plain": [
       "<IPython.core.display.Math object>"
      ]
     },
     "metadata": {},
     "output_type": "display_data"
    },
    {
     "data": {
      "text/latex": [
       "$\\displaystyle \\ln P_{\\text{unique}}(n) = \\sum_{i=0}^{n-1} \\ln \\left( 1 - \\frac{i}{365} \\right)$"
      ],
      "text/plain": [
       "<IPython.core.display.Math object>"
      ]
     },
     "metadata": {},
     "output_type": "display_data"
    },
    {
     "data": {
      "text/latex": [
       "$\\displaystyle \\ln P_{\\text{unique}}(n) \\approx - \\sum_{i=0}^{n-1} \\frac{i}{365}$"
      ],
      "text/plain": [
       "<IPython.core.display.Math object>"
      ]
     },
     "metadata": {},
     "output_type": "display_data"
    },
    {
     "data": {
      "text/latex": [
       "$\\displaystyle \\textbf{Step 2: Summation Approximation}$"
      ],
      "text/plain": [
       "<IPython.core.display.Math object>"
      ]
     },
     "metadata": {},
     "output_type": "display_data"
    },
    {
     "data": {
      "text/latex": [
       "$\\displaystyle \\sum_{i=0}^{n-1} i = \\frac{(n-1)n}{2}$"
      ],
      "text/plain": [
       "<IPython.core.display.Math object>"
      ]
     },
     "metadata": {},
     "output_type": "display_data"
    },
    {
     "data": {
      "text/latex": [
       "$\\displaystyle \\ln P_{\\text{unique}}(n) \\approx - \\frac{n(n-1)}{2 \\times 365}$"
      ],
      "text/plain": [
       "<IPython.core.display.Math object>"
      ]
     },
     "metadata": {},
     "output_type": "display_data"
    },
    {
     "data": {
      "text/latex": [
       "$\\displaystyle P_{\\text{unique}}(n) \\approx \\exp\\left(-\\frac{n(n-1)}{2 \\times 365}\\right)$"
      ],
      "text/plain": [
       "<IPython.core.display.Math object>"
      ]
     },
     "metadata": {},
     "output_type": "display_data"
    },
    {
     "data": {
      "text/latex": [
       "$\\displaystyle \\textbf{Step 3: Approximation for Large } n$"
      ],
      "text/plain": [
       "<IPython.core.display.Math object>"
      ]
     },
     "metadata": {},
     "output_type": "display_data"
    },
    {
     "data": {
      "text/latex": [
       "$\\displaystyle P_{\\text{unique}}(n) \\approx \\exp\\left(-\\frac{n^2}{730}\\right)$"
      ],
      "text/plain": [
       "<IPython.core.display.Math object>"
      ]
     },
     "metadata": {},
     "output_type": "display_data"
    },
    {
     "data": {
      "text/latex": [
       "$\\displaystyle P(n) = 1 - P_{\\text{unique}}(n)$"
      ],
      "text/plain": [
       "<IPython.core.display.Math object>"
      ]
     },
     "metadata": {},
     "output_type": "display_data"
    },
    {
     "data": {
      "text/latex": [
       "$\\displaystyle P(n) \\approx 1 - \\exp\\left(-\\frac{n^2}{730}\\right)$"
      ],
      "text/plain": [
       "<IPython.core.display.Math object>"
      ]
     },
     "metadata": {},
     "output_type": "display_data"
    }
   ],
   "source": [
    "from IPython.display import display, Math\n",
    "\n",
    "# Displaying the title\n",
    "display(Math(r'\\textbf{Plotting the Graph of Probability vs. Total Number of People (for } k = 2\\textbf{)}'))\n",
    "\n",
    "# Displaying the main equation\n",
    "display(Math(r'P(n) = 1 - \\exp\\left(-\\frac{n^2}{730}\\right)'))\n",
    "\n",
    "# Displaying the explanation\n",
    "display(Math(r'\\text{The similarity in the two graphs is due to the fact that the given expression is the exponential}'))\n",
    "display(Math(r'\\text{approximation of the standard birthday problem.}'))\n",
    "\n",
    "# Step 1: Probability of Unique Birthdays\n",
    "display(Math(r'\\textbf{Step 1: Probability of Unique Birthdays}'))\n",
    "display(Math(r'P_{\\text{unique}}(n) = \\frac{365}{365} \\times \\frac{364}{365} \\times \\frac{363}{365} \\times \\dots \\times \\frac{365 - n + 1}{365}'))\n",
    "\n",
    "# Taking natural logarithm\n",
    "display(Math(r'\\ln P_{\\text{unique}}(n) = \\sum_{i=0}^{n-1} \\ln \\left( 1 - \\frac{i}{365} \\right)'))\n",
    "\n",
    "# Approximation using ln(1 - x) ≈ -x\n",
    "display(Math(r'\\ln P_{\\text{unique}}(n) \\approx - \\sum_{i=0}^{n-1} \\frac{i}{365}'))\n",
    "\n",
    "# Step 2: Summation Approximation\n",
    "display(Math(r'\\textbf{Step 2: Summation Approximation}'))\n",
    "display(Math(r'\\sum_{i=0}^{n-1} i = \\frac{(n-1)n}{2}'))\n",
    "\n",
    "# Further approximation\n",
    "display(Math(r'\\ln P_{\\text{unique}}(n) \\approx - \\frac{n(n-1)}{2 \\times 365}'))\n",
    "display(Math(r'P_{\\text{unique}}(n) \\approx \\exp\\left(-\\frac{n(n-1)}{2 \\times 365}\\right)'))\n",
    "\n",
    "# Step 3: Approximation for Large n\n",
    "display(Math(r'\\textbf{Step 3: Approximation for Large } n'))\n",
    "display(Math(r'P_{\\text{unique}}(n) \\approx \\exp\\left(-\\frac{n^2}{730}\\right)'))\n",
    "\n",
    "# Final probability result\n",
    "display(Math(r'P(n) = 1 - P_{\\text{unique}}(n)'))\n",
    "display(Math(r'P(n) \\approx 1 - \\exp\\left(-\\frac{n^2}{730}\\right)'))\n"
   ]
  },
  {
   "cell_type": "code",
   "execution_count": 10,
   "metadata": {},
   "outputs": [
    {
     "data": {
      "image/png": "[encoded data removed]",
      "text/plain": [
       "<Figure size 1000x600 with 1 Axes>"
      ]
     },
     "metadata": {},
     "output_type": "display_data"
    }
   ],
   "source": [
    "import numpy as np\n",
    "import matplotlib.pyplot as plt\n",
    "\n",
    "def birthday(n):   # for k = 2\n",
    "    if n > 365:   # Considerig non-leap years\n",
    "        return 1    # more people than days,so by pigeonhole principle one birthday is shared for sure\n",
    "\n",
    "    total_days = 365\n",
    "    prob_unique = 1.0   # all unique birthdays\n",
    "    for i in range(n):  # i values from 0 to n-1\n",
    "        prob_unique *= (total_days - i) / total_days\n",
    "\n",
    "    return 1 - prob_unique\n",
    "\n",
    "n_values = np.arange(2, 61)  # generate values from 2 to 60\n",
    "p_values = np.array([birthday(n) for n in n_values])  # Actual birthday problem probability\n",
    "approx_prob = 1 - np.exp(-n_values**2 / 730)  # Exponential approximation\n",
    "\n",
    "# Plotting the results\n",
    "plt.figure(figsize=(10,6))\n",
    "plt.plot(n_values, p_values, label=\"Actual Probability (P(n))\", marker=\"o\", linestyle=\"-\", color=\"orange\")\n",
    "plt.plot(n_values, approx_prob, label=\"Approximation (1 - exp(-n²/730))\", linestyle=\"--\", color=\"green\")\n",
    "\n",
    "# Labels\n",
    "plt.title(\"Birthday Problem Probability vs. Exponential Approximation\")\n",
    "plt.xlabel(\"Number of People (n)\")\n",
    "plt.ylabel(\"Probability (p)\")\n",
    "plt.legend()\n",
    "plt.grid()\n",
    "plt.show()"
   ]
  },
  {
   "cell_type": "markdown",
   "metadata": {},
   "source": [
    "Buffon's Matches\n",
    "\n",
    "A function buffons_matches(L, d) to estimate the value of π, where L is the length of the matches and d is the distance between the parallel lines."
   ]
  },
  {
   "cell_type": "code",
   "execution_count": 7,
   "metadata": {},
   "outputs": [
    {
     "name": "stdout",
     "output_type": "stream",
     "text": [
      "TkAgg\n"
     ]
    }
   ],
   "source": [
    "import numpy as np\n",
    "import matplotlib\n",
    "matplotlib.use(\"TkAgg\")  # Ensures real-time visualization\n",
    "import matplotlib.pyplot as plt\n",
    "\n",
    "print(matplotlib.get_backend())  # Check if the correct backend is used\n",
    "\n",
    "plt.ion()  # Enable interactive mode\n",
    "\n",
    "def buffons_matches(L, d, num_matches=500, delay=0.01):\n",
    "    \"\"\"\n",
    "    Simulates Buffon's Matchstick Experiment to estimate π.\n",
    "\n",
    "    Parameters:\n",
    "        L (float): Length of matchstick (user input).\n",
    "        d (float): Distance between parallel lines (user input).\n",
    "        num_matches (int): Number of matchsticks to drop.\n",
    "        delay (float): Pause between matchstick drops for visualization.\n",
    "    \"\"\"\n",
    "    \n",
    "    # Counters for matchsticks\n",
    "    N = 0          # Total matchsticks thrown\n",
    "    N_cross = 0    # Matchsticks that cross a line\n",
    "\n",
    "    # Create plot\n",
    "    fig, ax = plt.subplots(figsize=(8, 6))\n",
    "    ax.set_xlim(0, 20)\n",
    "    ax.set_ylim(0, 20)  # Keep fixed y-axis range\n",
    "    ax.set_xticks([])   # Hide x-axis ticks\n",
    "    ax.set_yticks(np.arange(0, 21, d))  # Keep y-axis labels aligned with grid\n",
    "\n",
    "    # Draw parallel lines\n",
    "    for i in np.arange(0, 20 + d, d):  \n",
    "        ax.hlines(i, 0, 20, color='black', linewidth=1)\n",
    "\n",
    "    while N < num_matches:\n",
    "        N += 1\n",
    "        \n",
    "        # Generate a random midpoint and angle\n",
    "        x_mid = np.random.uniform(0, 20)  # Random x position\n",
    "        y_mid = np.random.uniform(0, 20)  # Random y position\n",
    "        theta = np.random.uniform(0, np.pi)  # Random angle (0 to 180 degrees)\n",
    "\n",
    "        # Compute endpoints of the needle (ensuring same length)\n",
    "        x1 = x_mid - (L / 2) * np.cos(theta)\n",
    "        x2 = x_mid + (L / 2) * np.cos(theta) \n",
    "        y1 = y_mid - (L / 2) * np.sin(theta)\n",
    "        y2 = y_mid + (L / 2) * np.sin(theta)\n",
    "\n",
    "        # Check if the needle crosses a line\n",
    "        cross = (int(y1 // d) != int(y2 // d))  # True if endpoints are in different bands\n",
    "\n",
    "        if cross:\n",
    "            N_cross += 1\n",
    "\n",
    "        # Estimate π\n",
    "        pi_estimate = (2 * L * N / (d * N_cross)) if N_cross > 0 else float('inf')\n",
    "\n",
    "        # Draw the needle with correct coloring\n",
    "        color = 'r' if cross else 'b'\n",
    "        ax.plot([x1, x2], [y1, y2], color=color, linewidth=2)\n",
    "\n",
    "        ax.set_title(f'Thrown: {N}, Crossed: {N_cross}, Estimated π: {pi_estimate:.4f}')\n",
    "\n",
    "        plt.draw()\n",
    "        plt.pause(delay)\n",
    "\n",
    "    plt.ioff()\n",
    "    plt.show()\n",
    "\n",
    "\n",
    "# Get user input for L and d\n",
    "L = float(input(\"Enter matchstick length (L): \"))\n",
    "d = float(input(\"Enter distance between lines (d): \"))\n",
    "\n",
    "buffons_matches(L, d)\n"
   ]
  },
  {
   "cell_type": "code",
   "execution_count": null,
   "metadata": {},
   "outputs": [],
   "source": []
  }
 ],
 "metadata": {
  "kernelspec": {
   "display_name": "Python 3",
   "language": "python",
   "name": "python3"
  },
  "language_info": {
   "codemirror_mode": {
    "name": "ipython",
    "version": 3
   },
   "file_extension": ".py",
   "mimetype": "text/x-python",
   "name": "python",
   "nbconvert_exporter": "python",
   "pygments_lexer": "ipython3",
   "version": "3.12.10"
  }
 },
 "nbformat": 4,
 "nbformat_minor": 2
}
